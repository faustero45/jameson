{
 "cells": [
  {
   "cell_type": "markdown",
   "id": "ee9e9051",
   "metadata": {},
   "source": [
    "# Data Science Tools And Ecosystem "
   ]
  },
  {
   "cell_type": "markdown",
   "id": "9cb4eb7a",
   "metadata": {},
   "source": [
    "# Some of the popular languages that Data Scientist use are:\n",
    "1. Python\n",
    "2. R\n",
    "3. Java Script"
   ]
  },
  {
   "cell_type": "markdown",
   "id": "45097e16",
   "metadata": {},
   "source": [
    "# Some commonly used libraries used by Data Scientist include:\n",
    "1. Pandas\n",
    "2. Numpy\n",
    "3. Scipy"
   ]
  },
  {
   "cell_type": "markdown",
   "id": "32be501a",
   "metadata": {},
   "source": [
    "| Data Science Tools |\n",
    "| ------------------ |\n",
    "| Jupiter Notebook |\n",
    "| Python |\n",
    "| Apache Spark |"
   ]
  },
  {
   "cell_type": "markdown",
   "id": "9f41f439",
   "metadata": {},
   "source": [
    "### Below are few examples of evaluating arithmetic expressions in phyton"
   ]
  },
  {
   "cell_type": "markdown",
   "id": "fafa7fd2",
   "metadata": {},
   "source": [
    "#### This a simple arithmetic expression to mutiply then add integers.\n"
   ]
  },
  {
   "cell_type": "code",
   "execution_count": 8,
   "id": "e1ffd687",
   "metadata": {},
   "outputs": [
    {
     "data": {
      "text/plain": [
       "17"
      ]
     },
     "execution_count": 8,
     "metadata": {},
     "output_type": "execute_result"
    }
   ],
   "source": [
    "(3*4)+5"
   ]
  },
  {
   "cell_type": "markdown",
   "id": "f4e3963e",
   "metadata": {},
   "source": [
    "**Objectives:**\n",
    "- Python\n",
    "- R\n",
    "- Java script"
   ]
  },
  {
   "cell_type": "markdown",
   "id": "ce2c878d",
   "metadata": {},
   "source": [
    "## Author\n",
    "\n",
    "Rav Ahuja\n",
    "Malika Singla"
   ]
  },
  {
   "cell_type": "code",
   "execution_count": null,
   "id": "7910e0d5",
   "metadata": {},
   "outputs": [],
   "source": []
  }
 ],
 "metadata": {
  "kernelspec": {
   "display_name": "Python 3 (ipykernel)",
   "language": "python",
   "name": "python3"
  },
  "language_info": {
   "codemirror_mode": {
    "name": "ipython",
    "version": 3
   },
   "file_extension": ".py",
   "mimetype": "text/x-python",
   "name": "python",
   "nbconvert_exporter": "python",
   "pygments_lexer": "ipython3",
   "version": "3.11.4"
  }
 },
 "nbformat": 4,
 "nbformat_minor": 5
}
